{
 "cells": [
  {
   "cell_type": "code",
   "execution_count": 79,
   "id": "a7dfcad9",
   "metadata": {},
   "outputs": [],
   "source": [
    "import numpy as np\n",
    "import pandas as pd"
   ]
  },
  {
   "cell_type": "code",
   "execution_count": 80,
   "id": "91065604",
   "metadata": {},
   "outputs": [],
   "source": [
    "df =pd.read_csv(\"breast-cancer.data\",header=None)"
   ]
  },
  {
   "cell_type": "code",
   "execution_count": 81,
   "id": "ae98ebc6",
   "metadata": {},
   "outputs": [],
   "source": [
    "df = df.sample(frac=1,random_state=42).reset_index(drop=True) #shuffling to make samples iid "
   ]
  },
  {
   "cell_type": "code",
   "execution_count": 82,
   "id": "80abc668",
   "metadata": {},
   "outputs": [],
   "source": [
    "#Spliting train and test data\n",
    "N=df.shape[0]\n",
    "df_train= df[:int(N*0.8)]\n",
    "df_test=df[int(N*0.8):]"
   ]
  },
  {
   "cell_type": "code",
   "execution_count": 83,
   "id": "b54ee625",
   "metadata": {},
   "outputs": [
    {
     "data": {
      "text/plain": [
       "{'no-recurrence-events': 0.6929824561403509,\n",
       " 'recurrence-events': 0.30701754385964913}"
      ]
     },
     "execution_count": 83,
     "metadata": {},
     "output_type": "execute_result"
    }
   ],
   "source": [
    "#Finding prior\n",
    "N=df_train.shape[0]\n",
    "count = dict(df_train[0].value_counts())\n",
    "prior = dict([(k, v/N) for k,v in count.items()])\n",
    "prior"
   ]
  },
  {
   "cell_type": "code",
   "execution_count": 84,
   "id": "4982f908",
   "metadata": {},
   "outputs": [
    {
     "data": {
      "text/plain": [
       "{'no-recurrence-events': {1: {'40-49': 0.31645569620253167,\n",
       "   '60-69': 0.1962025316455696,\n",
       "   '50-59': 0.34177215189873417,\n",
       "   '30-39': 0.12025316455696203,\n",
       "   '70-79': 0.0189873417721519,\n",
       "   '20-29': 0.006329113924050633},\n",
       "  2: {'premeno': 0.5316455696202531,\n",
       "   'ge40': 0.44936708860759494,\n",
       "   'lt40': 0.0189873417721519},\n",
       "  3: {'20-24': 0.16455696202531644,\n",
       "   '45-49': 0.012658227848101266,\n",
       "   '30-34': 0.18354430379746836,\n",
       "   '40-44': 0.0759493670886076,\n",
       "   '15-19': 0.08860759493670886,\n",
       "   '10-14': 0.1518987341772152,\n",
       "   '50-54': 0.02531645569620253,\n",
       "   '35-39': 0.06329113924050633,\n",
       "   '25-29': 0.17088607594936708,\n",
       "   '0-4': 0.0379746835443038,\n",
       "   '5-9': 0.02531645569620253},\n",
       "  4: {'0-2': 0.8291139240506329,\n",
       "   '24-26': 0,\n",
       "   '3-5': 0.08860759493670886,\n",
       "   '6-8': 0.04430379746835443,\n",
       "   '9-11': 0.012658227848101266,\n",
       "   '15-17': 0.0189873417721519,\n",
       "   '12-14': 0.006329113924050633},\n",
       "  5: {'no': 0.8607594936708861,\n",
       "   'yes': 0.11392405063291139,\n",
       "   '?': 0.02531645569620253},\n",
       "  6: {2: 0.5, 3: 0.20253164556962025, 1: 0.2974683544303797},\n",
       "  7: {'right': 0.5, 'left': 0.5},\n",
       "  8: {'left_up': 0.3227848101265823,\n",
       "   'left_low': 0.37341772151898733,\n",
       "   'right_up': 0.10126582278481013,\n",
       "   'right_low': 0.10126582278481013,\n",
       "   'central': 0.10126582278481013,\n",
       "   '?': 0},\n",
       "  9: {'no': 0.8354430379746836, 'yes': 0.16455696202531644}},\n",
       " 'recurrence-events': {1: {'40-49': 0.35714285714285715,\n",
       "   '60-69': 0.17142857142857143,\n",
       "   '50-59': 0.2714285714285714,\n",
       "   '30-39': 0.18571428571428572,\n",
       "   '70-79': 0.014285714285714285,\n",
       "   '20-29': 0},\n",
       "  2: {'premeno': 0.6142857142857143,\n",
       "   'ge40': 0.35714285714285715,\n",
       "   'lt40': 0.02857142857142857},\n",
       "  3: {'20-24': 0.2,\n",
       "   '45-49': 0.014285714285714285,\n",
       "   '30-34': 0.3,\n",
       "   '40-44': 0.02857142857142857,\n",
       "   '15-19': 0.08571428571428572,\n",
       "   '10-14': 0.014285714285714285,\n",
       "   '50-54': 0.04285714285714286,\n",
       "   '35-39': 0.1,\n",
       "   '25-29': 0.21428571428571427,\n",
       "   '0-4': 0,\n",
       "   '5-9': 0},\n",
       "  4: {'0-2': 0.5857142857142857,\n",
       "   '24-26': 0.014285714285714285,\n",
       "   '3-5': 0.14285714285714285,\n",
       "   '6-8': 0.11428571428571428,\n",
       "   '9-11': 0.08571428571428572,\n",
       "   '15-17': 0.02857142857142857,\n",
       "   '12-14': 0.02857142857142857},\n",
       "  5: {'no': 0.6285714285714286,\n",
       "   'yes': 0.32857142857142857,\n",
       "   '?': 0.04285714285714286},\n",
       "  6: {2: 0.32857142857142857, 3: 0.5142857142857142, 1: 0.15714285714285714},\n",
       "  7: {'right': 0.4142857142857143, 'left': 0.5857142857142857},\n",
       "  8: {'left_up': 0.32857142857142857,\n",
       "   'left_low': 0.4,\n",
       "   'right_up': 0.14285714285714285,\n",
       "   'right_low': 0.07142857142857142,\n",
       "   'central': 0.04285714285714286,\n",
       "   '?': 0.014285714285714285},\n",
       "  9: {'no': 0.6142857142857143, 'yes': 0.38571428571428573}}}"
      ]
     },
     "execution_count": 84,
     "metadata": {},
     "output_type": "execute_result"
    }
   ],
   "source": [
    "#Finding Likelihood\n",
    "likelihood={}\n",
    "for class_i in prior.keys():\n",
    "    df_class=df_train[df_train[0]==class_i]\n",
    "    N_class = df_class.shape[0]\n",
    "    likelihood[class_i]={}\n",
    "    for col in range(1,10):\n",
    "        feauture_count = dict(df_class[col].value_counts())\n",
    "        keys = df[col].unique()\n",
    "        likelihood[class_i][col] = dict([(k,feauture_count[k]/N_class) if k in feauture_count else (k,0) for k in keys])\n",
    "likelihood"
   ]
  },
  {
   "cell_type": "code",
   "execution_count": 85,
   "id": "c43914fd",
   "metadata": {},
   "outputs": [
    {
     "data": {
      "image/png": "[encoded data removed]",
      "text/plain": [
       "<Figure size 432x288 with 1 Axes>"
      ]
     },
     "metadata": {
      "needs_background": "light"
     },
     "output_type": "display_data"
    }
   ],
   "source": [
    "import matplotlib.pyplot as plt\n",
    "plt.bar(likelihood['recurrence-events'][1].keys(), likelihood['recurrence-events'][1].values())\n",
    "plt.xlabel('categories')\n",
    "plt.ylabel('likelihood')\n",
    "plt.title('Likelhood Plot')\n",
    "plt.show()"
   ]
  },
  {
   "cell_type": "code",
   "execution_count": 86,
   "id": "dba171f7",
   "metadata": {},
   "outputs": [
    {
     "name": "stderr",
     "output_type": "stream",
     "text": [
      "C:\\Users\\91995\\AppData\\Local\\Temp\\ipykernel_11372\\1393082327.py:8: RuntimeWarning: divide by zero encountered in log\n",
      "  pos_i = pos_i + np.log(likelihood[cls][col][df_train.loc[i,col]])\n"
     ]
    }
   ],
   "source": [
    "#Finding Posterior Inference\n",
    "clses = list(prior.keys())\n",
    "pos = np.zeros((df_train.shape[0],len(clses)))\n",
    "for i in range(df_train.shape[0]):\n",
    "    for j,cls in enumerate(clses):\n",
    "        pos_i = np.log(prior[cls])\n",
    "        for col in range(1,10):\n",
    "            pos_i = pos_i + np.log(likelihood[cls][col][df_train.loc[i,col]])\n",
    "        pos[i,j]=pos_i"
   ]
  },
  {
   "cell_type": "code",
   "execution_count": 87,
   "id": "dfdd07f3",
   "metadata": {},
   "outputs": [
    {
     "name": "stderr",
     "output_type": "stream",
     "text": [
      "C:\\Users\\91995\\AppData\\Local\\Temp\\ipykernel_11372\\3314981118.py:1: SettingWithCopyWarning: \n",
      "A value is trying to be set on a copy of a slice from a DataFrame.\n",
      "Try using .loc[row_indexer,col_indexer] = value instead\n",
      "\n",
      "See the caveats in the documentation: https://pandas.pydata.org/pandas-docs/stable/user_guide/indexing.html#returning-a-view-versus-a-copy\n",
      "  df_train.loc[:,\"Prediction\"]=np.array(cls_names)[np.argmax(pos, axis=1)]\n"
     ]
    }
   ],
   "source": [
    "df_train.loc[:,\"Prediction\"]=np.array(cls_names)[np.argmax(pos, axis=1)]"
   ]
  },
  {
   "cell_type": "code",
   "execution_count": 88,
   "id": "c3f6b0c3",
   "metadata": {},
   "outputs": [
    {
     "name": "stdout",
     "output_type": "stream",
     "text": [
      "Train Accuray= 0.7456140350877193\n",
      "Train F1-score 0.6961397058823529\n"
     ]
    }
   ],
   "source": [
    "#Finding  Accuracy on Training data\n",
    "from sklearn.preprocessing import LabelEncoder\n",
    "from sklearn.metrics import f1_score\n",
    "\n",
    "binarizer = LabelEncoder()\n",
    "binarizer.fit(df[0].values)\n",
    "print(\"Train Accuray=\", (df_train[0]==df_train['Prediction']).sum()/df_train.shape[0] )\n",
    "\n",
    "print(\"Train F1-score\",  f1_score(binarizer.transform(df_train[0].values), binarizer.transform(df_train['Prediction'].values), average='macro' ))"
   ]
  },
  {
   "cell_type": "code",
   "execution_count": 89,
   "id": "8a7f55eb",
   "metadata": {},
   "outputs": [
    {
     "name": "stderr",
     "output_type": "stream",
     "text": [
      "C:\\Users\\91995\\AppData\\Local\\Temp\\ipykernel_11372\\3987755500.py:7: RuntimeWarning: divide by zero encountered in log\n",
      "  pos_i = pos_i + np.log(likelihood[cls][col][df_train.loc[i,col]])\n"
     ]
    }
   ],
   "source": [
    "#Predicting for Testing Data\n",
    "pos = np.zeros((df_test.shape[0],len(clses)))\n",
    "for i in range(df_test.shape[0]):\n",
    "    for j,cls in enumerate(clses):\n",
    "        pos_i = np.log(prior[cls])\n",
    "        for col in range(1,10):\n",
    "            pos_i = pos_i + np.log(likelihood[cls][col][df_train.loc[i,col]])\n",
    "        pos[i,j]=pos_i"
   ]
  },
  {
   "cell_type": "code",
   "execution_count": 90,
   "id": "035f5d13",
   "metadata": {},
   "outputs": [
    {
     "name": "stderr",
     "output_type": "stream",
     "text": [
      "C:\\Users\\91995\\AppData\\Local\\Temp\\ipykernel_11372\\603421440.py:1: SettingWithCopyWarning: \n",
      "A value is trying to be set on a copy of a slice from a DataFrame.\n",
      "Try using .loc[row_indexer,col_indexer] = value instead\n",
      "\n",
      "See the caveats in the documentation: https://pandas.pydata.org/pandas-docs/stable/user_guide/indexing.html#returning-a-view-versus-a-copy\n",
      "  df_test.loc[:,\"Prediction\"]=np.array(cls_names)[np.argmax(pos, axis=1)]\n"
     ]
    },
    {
     "data": {
      "text/html": [
       "<div>\n",
       "<style scoped>\n",
       "    .dataframe tbody tr th:only-of-type {\n",
       "        vertical-align: middle;\n",
       "    }\n",
       "\n",
       "    .dataframe tbody tr th {\n",
       "        vertical-align: top;\n",
       "    }\n",
       "\n",
       "    .dataframe thead th {\n",
       "        text-align: right;\n",
       "    }\n",
       "</style>\n",
       "<table border=\"1\" class=\"dataframe\">\n",
       "  <thead>\n",
       "    <tr style=\"text-align: right;\">\n",
       "      <th></th>\n",
       "      <th>0</th>\n",
       "      <th>1</th>\n",
       "      <th>2</th>\n",
       "      <th>3</th>\n",
       "      <th>4</th>\n",
       "      <th>5</th>\n",
       "      <th>6</th>\n",
       "      <th>7</th>\n",
       "      <th>8</th>\n",
       "      <th>9</th>\n",
       "      <th>Prediction</th>\n",
       "    </tr>\n",
       "  </thead>\n",
       "  <tbody>\n",
       "    <tr>\n",
       "      <th>228</th>\n",
       "      <td>no-recurrence-events</td>\n",
       "      <td>60-69</td>\n",
       "      <td>ge40</td>\n",
       "      <td>25-29</td>\n",
       "      <td>3-5</td>\n",
       "      <td>?</td>\n",
       "      <td>1</td>\n",
       "      <td>right</td>\n",
       "      <td>left_up</td>\n",
       "      <td>yes</td>\n",
       "      <td>no-recurrence-events</td>\n",
       "    </tr>\n",
       "    <tr>\n",
       "      <th>229</th>\n",
       "      <td>no-recurrence-events</td>\n",
       "      <td>50-59</td>\n",
       "      <td>ge40</td>\n",
       "      <td>10-14</td>\n",
       "      <td>0-2</td>\n",
       "      <td>no</td>\n",
       "      <td>2</td>\n",
       "      <td>right</td>\n",
       "      <td>left_low</td>\n",
       "      <td>no</td>\n",
       "      <td>recurrence-events</td>\n",
       "    </tr>\n",
       "    <tr>\n",
       "      <th>230</th>\n",
       "      <td>recurrence-events</td>\n",
       "      <td>30-39</td>\n",
       "      <td>premeno</td>\n",
       "      <td>0-4</td>\n",
       "      <td>0-2</td>\n",
       "      <td>no</td>\n",
       "      <td>2</td>\n",
       "      <td>right</td>\n",
       "      <td>central</td>\n",
       "      <td>no</td>\n",
       "      <td>no-recurrence-events</td>\n",
       "    </tr>\n",
       "    <tr>\n",
       "      <th>231</th>\n",
       "      <td>no-recurrence-events</td>\n",
       "      <td>50-59</td>\n",
       "      <td>ge40</td>\n",
       "      <td>10-14</td>\n",
       "      <td>0-2</td>\n",
       "      <td>no</td>\n",
       "      <td>1</td>\n",
       "      <td>left</td>\n",
       "      <td>left_up</td>\n",
       "      <td>no</td>\n",
       "      <td>recurrence-events</td>\n",
       "    </tr>\n",
       "    <tr>\n",
       "      <th>232</th>\n",
       "      <td>recurrence-events</td>\n",
       "      <td>60-69</td>\n",
       "      <td>ge40</td>\n",
       "      <td>25-29</td>\n",
       "      <td>3-5</td>\n",
       "      <td>no</td>\n",
       "      <td>2</td>\n",
       "      <td>right</td>\n",
       "      <td>right_up</td>\n",
       "      <td>no</td>\n",
       "      <td>recurrence-events</td>\n",
       "    </tr>\n",
       "  </tbody>\n",
       "</table>\n",
       "</div>"
      ],
      "text/plain": [
       "                        0      1        2      3    4   5  6      7         8  \\\n",
       "228  no-recurrence-events  60-69     ge40  25-29  3-5   ?  1  right   left_up   \n",
       "229  no-recurrence-events  50-59     ge40  10-14  0-2  no  2  right  left_low   \n",
       "230     recurrence-events  30-39  premeno    0-4  0-2  no  2  right   central   \n",
       "231  no-recurrence-events  50-59     ge40  10-14  0-2  no  1   left   left_up   \n",
       "232     recurrence-events  60-69     ge40  25-29  3-5  no  2  right  right_up   \n",
       "\n",
       "       9            Prediction  \n",
       "228  yes  no-recurrence-events  \n",
       "229   no     recurrence-events  \n",
       "230   no  no-recurrence-events  \n",
       "231   no     recurrence-events  \n",
       "232   no     recurrence-events  "
      ]
     },
     "execution_count": 90,
     "metadata": {},
     "output_type": "execute_result"
    }
   ],
   "source": [
    "df_test.loc[:,\"Prediction\"]=np.array(cls_names)[np.argmax(pos, axis=1)]"
   ]
  },
  {
   "cell_type": "code",
   "execution_count": 91,
   "id": "5ae15352",
   "metadata": {},
   "outputs": [
    {
     "name": "stdout",
     "output_type": "stream",
     "text": [
      "Train Accuray= 0.6379310344827587\n",
      "Train F1-score 0.5377609108159392\n"
     ]
    }
   ],
   "source": [
    "print(\"Train Accuray=\", (df_test[0]==df_test['Prediction']).sum()/df_test.shape[0] )\n",
    "\n",
    "print(\"Train F1-score\",  f1_score(binarizer.transform(df_test[0].values), binarizer.transform(df_test['Prediction'].values), average='macro' ))"
   ]
  },
  {
   "cell_type": "code",
   "execution_count": 93,
   "id": "df1c9fd9",
   "metadata": {},
   "outputs": [
    {
     "data": {
      "text/plain": [
       "{'no-recurrence-events': {1: {'40-49': 0.2925531914893617,\n",
       "   '60-69': 0.19148936170212766,\n",
       "   '50-59': 0.31382978723404253,\n",
       "   '30-39': 0.1276595744680851,\n",
       "   '70-79': 0.0425531914893617,\n",
       "   '20-29': 0.031914893617021274},\n",
       "  2: {'premeno': 0.5144508670520231,\n",
       "   'ge40': 0.4393063583815029,\n",
       "   'lt40': 0.046242774566473986},\n",
       "  3: {'20-24': 0.14553990610328638,\n",
       "   '45-49': 0.03286384976525822,\n",
       "   '30-34': 0.1596244131455399,\n",
       "   '40-44': 0.07981220657276995,\n",
       "   '15-19': 0.0892018779342723,\n",
       "   '10-14': 0.13615023474178403,\n",
       "   '50-54': 0.04225352112676056,\n",
       "   '35-39': 0.07042253521126761,\n",
       "   '25-29': 0.15023474178403756,\n",
       "   '0-4': 0.051643192488262914,\n",
       "   '5-9': 0.04225352112676056},\n",
       "  4: {'0-2': 0.7046632124352331,\n",
       "   '24-26': 0.025906735751295335,\n",
       "   '3-5': 0.09844559585492228,\n",
       "   '6-8': 0.06217616580310881,\n",
       "   '9-11': 0.03626943005181347,\n",
       "   '15-17': 0.04145077720207254,\n",
       "   '12-14': 0.031088082901554404},\n",
       "  5: {'no': 0.815028901734104,\n",
       "   'yes': 0.1329479768786127,\n",
       "   '?': 0.05202312138728324},\n",
       "  6: {2: 0.48554913294797686, 3: 0.2138728323699422, 1: 0.30057803468208094},\n",
       "  7: {'right': 0.5, 'left': 0.5},\n",
       "  8: {'left_up': 0.2978723404255319,\n",
       "   'left_low': 0.3404255319148936,\n",
       "   'right_up': 0.11170212765957446,\n",
       "   'right_low': 0.11170212765957446,\n",
       "   'central': 0.11170212765957446,\n",
       "   '?': 0.026595744680851064},\n",
       "  9: {'no': 0.8154761904761905, 'yes': 0.18452380952380953}},\n",
       " 'recurrence-events': {1: {'40-49': 0.3,\n",
       "   '60-69': 0.17,\n",
       "   '50-59': 0.24,\n",
       "   '30-39': 0.18,\n",
       "   '70-79': 0.06,\n",
       "   '20-29': 0.05},\n",
       "  2: {'premeno': 0.5647058823529412,\n",
       "   'ge40': 0.35294117647058826,\n",
       "   'lt40': 0.08235294117647059},\n",
       "  3: {'20-24': 0.152,\n",
       "   '45-49': 0.048,\n",
       "   '30-34': 0.208,\n",
       "   '40-44': 0.056,\n",
       "   '15-19': 0.088,\n",
       "   '10-14': 0.048,\n",
       "   '50-54': 0.064,\n",
       "   '35-39': 0.096,\n",
       "   '25-29': 0.16,\n",
       "   '0-4': 0.04,\n",
       "   '5-9': 0.04},\n",
       "  4: {'0-2': 0.4380952380952381,\n",
       "   '24-26': 0.05714285714285714,\n",
       "   '3-5': 0.14285714285714285,\n",
       "   '6-8': 0.12380952380952381,\n",
       "   '9-11': 0.10476190476190476,\n",
       "   '15-17': 0.06666666666666667,\n",
       "   '12-14': 0.06666666666666667},\n",
       "  5: {'no': 0.5764705882352941,\n",
       "   'yes': 0.32941176470588235,\n",
       "   '?': 0.09411764705882353},\n",
       "  6: {2: 0.32941176470588235, 3: 0.4823529411764706, 1: 0.18823529411764706},\n",
       "  7: {'right': 0.425, 'left': 0.575},\n",
       "  8: {'left_up': 0.28,\n",
       "   'left_low': 0.33,\n",
       "   'right_up': 0.15,\n",
       "   'right_low': 0.1,\n",
       "   'central': 0.08,\n",
       "   '?': 0.06},\n",
       "  9: {'no': 0.6, 'yes': 0.4}}}"
      ]
     },
     "execution_count": 93,
     "metadata": {},
     "output_type": "execute_result"
    }
   ],
   "source": [
    "#Finding Likelikoof after Applying Smoothing due to some values are missing in training data\n",
    "alpha = 5 #Smoothing factor\n",
    "likelihood_smooth={}\n",
    "for class_i in prior.keys():\n",
    "    df_class=df_train[df_train[0]==class_i]\n",
    "    N_class = df_class.shape[0]\n",
    "    likelihood_smooth[class_i]={}\n",
    "    for col in range(1,10):\n",
    "        feauture_count = dict(df_class[col].value_counts())\n",
    "        keys = df[col].unique()\n",
    "        likelihood_smooth[class_i][col] = dict([(k,(feauture_count[k]+alpha)/(N_class + alpha*len(keys))) if k in feauture_count else (k,alpha/(N_class + alpha*len(keys))) for k in keys])\n",
    "likelihood_smooth"
   ]
  },
  {
   "cell_type": "code",
   "execution_count": 96,
   "id": "622e126a",
   "metadata": {},
   "outputs": [
    {
     "data": {
      "image/png": "[encoded data removed]",
      "text/plain": [
       "<Figure size 432x288 with 1 Axes>"
      ]
     },
     "metadata": {
      "needs_background": "light"
     },
     "output_type": "display_data"
    }
   ],
   "source": [
    "bar_width = 0.35\n",
    "categories = likelihood_smooth['recurrence-events'][1].keys()\n",
    "values1 = likelihood['recurrence-events'][1].values()\n",
    "values2 = likelihood_smooth['recurrence-events'][1].values()\n",
    "# Calculate the positions of the bars\n",
    "bar_positions1 = [i - bar_width/2 for i in range(len(categories))]\n",
    "bar_positions2 = [i + bar_width/2 for i in range(len(categories))]\n",
    "\n",
    "# Create the first bar plot\n",
    "plt.bar(bar_positions1, values1, color='red', width=bar_width, label= 'before smoothing' )\n",
    "\n",
    "# Create the second bar plot\n",
    "plt.bar(bar_positions2, values2, color='blue', width=bar_width, label= 'after smoothing')\n",
    "\n",
    "# Add labels and title\n",
    "plt.xlabel('Categories')\n",
    "plt.ylabel('Values')\n",
    "plt.title('Likelihood Plots')\n",
    "\n",
    "# Add the categories as x-tick labels\n",
    "plt.xticks(bar_positions2, categories)\n",
    "\n",
    "# Set the x-axis limits so that the bars are centered\n",
    "plt.xlim([min(bar_positions1) - bar_width, max(bar_positions2) + bar_width])\n",
    "plt.legend(loc='best')\n",
    "# Show the plot\n",
    "plt.show()"
   ]
  },
  {
   "cell_type": "code",
   "execution_count": 97,
   "id": "826a92a1",
   "metadata": {},
   "outputs": [],
   "source": [
    "#Finding Posterior Inference\n",
    "clses = list(prior.keys())\n",
    "pos = np.zeros((df_train.shape[0],len(clses)))\n",
    "for i in range(df_train.shape[0]):\n",
    "    for j,cls in enumerate(clses):\n",
    "        pos_i = np.log(prior[cls])\n",
    "        for col in range(1,10):\n",
    "            pos_i = pos_i + np.log(likelihood_smooth[cls][col][df_train.loc[i,col]])\n",
    "        pos[i,j]=pos_i"
   ]
  },
  {
   "cell_type": "code",
   "execution_count": 98,
   "id": "40095756",
   "metadata": {},
   "outputs": [
    {
     "name": "stderr",
     "output_type": "stream",
     "text": [
      "C:\\Users\\91995\\AppData\\Local\\Temp\\ipykernel_11372\\3314981118.py:1: SettingWithCopyWarning: \n",
      "A value is trying to be set on a copy of a slice from a DataFrame.\n",
      "Try using .loc[row_indexer,col_indexer] = value instead\n",
      "\n",
      "See the caveats in the documentation: https://pandas.pydata.org/pandas-docs/stable/user_guide/indexing.html#returning-a-view-versus-a-copy\n",
      "  df_train.loc[:,\"Prediction\"]=np.array(cls_names)[np.argmax(pos, axis=1)]\n"
     ]
    }
   ],
   "source": [
    "df_train.loc[:,\"Prediction\"]=np.array(cls_names)[np.argmax(pos, axis=1)]"
   ]
  },
  {
   "cell_type": "code",
   "execution_count": 99,
   "id": "0e66024a",
   "metadata": {},
   "outputs": [
    {
     "name": "stdout",
     "output_type": "stream",
     "text": [
      "Train Accuray= 0.75\n",
      "Train F1-score 0.6685962004335076\n"
     ]
    }
   ],
   "source": [
    "#Training Accuracy\n",
    "print(\"Train Accuray=\", (df_train[0]==df_train['Prediction']).sum()/df_train.shape[0] )\n",
    "\n",
    "print(\"Train F1-score\",  f1_score(binarizer.transform(df_train[0].values), binarizer.transform(df_train['Prediction'].values), average='macro' ))"
   ]
  },
  {
   "cell_type": "code",
   "execution_count": 100,
   "id": "24bcab64",
   "metadata": {},
   "outputs": [],
   "source": [
    "#Predicting on Test Data\n",
    "pos = np.zeros((df_test.shape[0],len(clses)))\n",
    "for i in range(df_test.shape[0]):\n",
    "    for j,cls in enumerate(clses):\n",
    "        pos_i = np.log(prior[cls])\n",
    "        for col in range(1,10):\n",
    "            pos_i = pos_i + np.log(likelihood_smooth[cls][col][df_train.loc[i,col]])\n",
    "        pos[i,j]=pos_i"
   ]
  },
  {
   "cell_type": "code",
   "execution_count": 101,
   "id": "63bc03a7",
   "metadata": {},
   "outputs": [
    {
     "name": "stderr",
     "output_type": "stream",
     "text": [
      "C:\\Users\\91995\\AppData\\Local\\Temp\\ipykernel_11372\\3350466438.py:1: SettingWithCopyWarning: \n",
      "A value is trying to be set on a copy of a slice from a DataFrame.\n",
      "Try using .loc[row_indexer,col_indexer] = value instead\n",
      "\n",
      "See the caveats in the documentation: https://pandas.pydata.org/pandas-docs/stable/user_guide/indexing.html#returning-a-view-versus-a-copy\n",
      "  df_test.loc[:,\"Prediction\"]=np.array(cls_names)[np.argmax(pos, axis=1)]\n"
     ]
    }
   ],
   "source": [
    "df_test.loc[:,\"Prediction\"]=np.array(cls_names)[np.argmax(pos, axis=1)]"
   ]
  },
  {
   "cell_type": "code",
   "execution_count": 102,
   "id": "450c809f",
   "metadata": {},
   "outputs": [
    {
     "name": "stdout",
     "output_type": "stream",
     "text": [
      "Train Accuray= 0.6551724137931034\n",
      "Train F1-score 0.4746376811594203\n"
     ]
    }
   ],
   "source": [
    "print(\"Train Accuray=\", (df_test[0]==df_test['Prediction']).sum()/df_test.shape[0] )\n",
    "\n",
    "print(\"Train F1-score\",  f1_score(binarizer.transform(df_test[0].values), binarizer.transform(df_test['Prediction'].values), average='macro' ))"
   ]
  },
  {
   "cell_type": "code",
   "execution_count": null,
   "id": "64a101d6",
   "metadata": {},
   "outputs": [],
   "source": []
  }
 ],
 "metadata": {
  "kernelspec": {
   "display_name": "Python 3 (ipykernel)",
   "language": "python",
   "name": "python3"
  },
  "language_info": {
   "codemirror_mode": {
    "name": "ipython",
    "version": 3
   },
   "file_extension": ".py",
   "mimetype": "text/x-python",
   "name": "python",
   "nbconvert_exporter": "python",
   "pygments_lexer": "ipython3",
   "version": "3.9.12"
  }
 },
 "nbformat": 4,
 "nbformat_minor": 5
}
